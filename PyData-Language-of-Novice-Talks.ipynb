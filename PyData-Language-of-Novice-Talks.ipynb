{
 "cells": [
  {
   "cell_type": "markdown",
   "metadata": {},
   "source": [
    "## Using Scattertext to Analyze PyData Talks\n",
    "Let's pull titles abstracts and descriptions of PyData talks to see how novice-level talks differed from intermediate and advanced talks.\n",
    "\n",
    "Please check out Scattertext on Github: https://github.com/JasonKessler/scattertext"
   ]
  },
  {
   "cell_type": "code",
   "execution_count": 1,
   "metadata": {},
   "outputs": [
    {
     "data": {
      "text/html": [
       "<style>.container { width:98% !important; }</style>"
      ],
      "text/plain": [
       "<IPython.core.display.HTML object>"
      ]
     },
     "metadata": {},
     "output_type": "display_data"
    }
   ],
   "source": [
    "import pandas as pd\n",
    "import requests\n",
    "from bs4 import BeautifulSoup\n",
    "import re, time\n",
    "import pygal\n",
    "import scattertext as st\n",
    "from IPython.display import IFrame\n",
    "from IPython.core.display import display, HTML\n",
    "import seaborn as sns\n",
    "display(HTML(\"<style>.container { width:98% !important; }</style>\"))\n",
    "import spacy\n",
    "import scattertext as st\n",
    "%matplotlib inline"
   ]
  },
  {
   "cell_type": "markdown",
   "metadata": {},
   "source": [
    "## First, let's scrape pydata.org"
   ]
  },
  {
   "cell_type": "code",
   "execution_count": 2,
   "metadata": {
    "collapsed": true
   },
   "outputs": [],
   "source": [
    "def parse_talk(url):\n",
    "    d = {}\n",
    "    try:\n",
    "        soup = BeautifulSoup(requests.get(url).text, 'lxml')\n",
    "        content = soup.find_all('div', class_='container')[1]\n",
    "        d['author'] = content.find_all('a')[0].contents[0]\n",
    "        d['title'] = content.find_all('h2')[0].contents[0]\n",
    "        d['level'] = content.find_all('dd')[0].contents[0] \n",
    "        d['description'] = soup.find_all('div', class_='description')[0].get_text()\n",
    "        d['abstract'] = soup.find_all('div', class_='abstract')[0].get_text()\n",
    "    except:\n",
    "        print('bad', url)\n",
    "        return None\n",
    "    \n",
    "    return d\n",
    "\n",
    "def pull_pydata_schedule(loc, year):\n",
    "    url = 'https://pydata.org/'+loc+str(year)+'/schedule/'    \n",
    "    soup = BeautifulSoup(requests.get(url).text, 'lxml')\n",
    "    content = soup.find_all('div', class_='container')[1]\n",
    "    talks = []\n",
    "    for slot in content.find_all('td', class_='slot'):\n",
    "        for link in slot.find_all('a'):   \n",
    "            d = parse_talk('https://pydata.org'+link.attrs['href'])\n",
    "            if d is not None:\n",
    "                d['location'] = loc\n",
    "                d['year'] = str(year)\n",
    "                talks.append(d)\n",
    "    time.sleep(5) # for politeness\n",
    "    print(loc, year)\n",
    "    return pd.DataFrame(talks)"
   ]
  },
  {
   "cell_type": "code",
   "execution_count": 3,
   "metadata": {},
   "outputs": [
    {
     "name": "stdout",
     "output_type": "stream",
     "text": [
      "seattle 2017\n",
      "london 2017\n",
      "bad https://pydata.orghttps://pydata.org/barcelona2017/schedule/presentation/42/\n",
      "bad https://pydata.orghttps://pydata.org/barcelona2017/schedule/presentation/33/\n",
      "bad https://pydata.orghttps://pydata.org/barcelona2017/schedule/presentation/34/\n",
      "bad https://pydata.orghttps://pydata.org/barcelona2017/schedule/presentation/52/\n",
      "barcelona 2017\n",
      "bad https://pydata.org/berlin2017/program/breakfast-and-lunch-program/\n",
      "bad https://pydata.org/berlin2017/keynote-speakers/\n",
      "bad https://pydata.org/berlin2017/program/breakfast-and-lunch-program/\n",
      "bad https://pydata.org/berlin2017/keynote-speakers#veronica-valeros\n",
      "bad https://pydata.org/berlin2017/program/breakfast-and-lunch-program/\n",
      "bad https://pydata.org/berlin2017/keynote-speakers#toby-walsh\n",
      "bad https://pydata.org/berlin2017/program/breakfast-and-lunch-program/\n",
      "bad https://pydata.org/berlin2017/keynote-speakers/#ethical-machine-learning-panel\n",
      "berlin 2017\n",
      "dc 2016\n",
      "carolinas 2016\n",
      "chicago 2016\n",
      "sfo 2016\n",
      "paris 2016\n",
      "berlin 2016\n",
      "london 2016\n"
     ]
    }
   ],
   "source": [
    "sched = pd.concat([pull_pydata_schedule('seattle', 2017),\n",
    "                   pull_pydata_schedule('london', 2017),\n",
    "                   pull_pydata_schedule('barcelona', 2017),                   \n",
    "                   pull_pydata_schedule('berlin', 2017),        \n",
    "                   pull_pydata_schedule('dc', 2016),\n",
    "                   pull_pydata_schedule('carolinas', 2016),\n",
    "                   pull_pydata_schedule('chicago', 2016),                   \n",
    "                   pull_pydata_schedule('sfo', 2016),                       \n",
    "                   pull_pydata_schedule('paris', 2016),                                                         \n",
    "                   pull_pydata_schedule('berlin', 2016),                   \n",
    "                   pull_pydata_schedule('london', 2016)])"
   ]
  },
  {
   "cell_type": "code",
   "execution_count": 23,
   "metadata": {
    "collapsed": true
   },
   "outputs": [],
   "source": [
    "sched.to_csv('pydata_talks.csv', index=False)"
   ]
  },
  {
   "cell_type": "code",
   "execution_count": 3,
   "metadata": {
    "collapsed": true
   },
   "outputs": [],
   "source": [
    "sched = pd.read_csv('pydata_talks.csv')"
   ]
  },
  {
   "cell_type": "code",
   "execution_count": 4,
   "metadata": {
    "collapsed": true
   },
   "outputs": [],
   "source": [
    "nlp = spacy.load('en')"
   ]
  },
  {
   "cell_type": "code",
   "execution_count": 5,
   "metadata": {
    "collapsed": true
   },
   "outputs": [],
   "source": [
    "sched = sched[~sched['title'].isin(['BoF', 'Unconference Presentation'])]"
   ]
  },
  {
   "cell_type": "code",
   "execution_count": 6,
   "metadata": {
    "collapsed": true
   },
   "outputs": [],
   "source": [
    "sched['is_novice'] = (sched.level == 'Novice').apply(lambda x: 'Novice' if x else 'Not Novice')"
   ]
  },
  {
   "cell_type": "code",
   "execution_count": 7,
   "metadata": {
    "collapsed": true
   },
   "outputs": [],
   "source": [
    "sched['parse'] = (sched['title'] + '\\n \\n' + sched['abstract'].fillna('') + '\\n \\n' + sched['description'].fillna('')).apply(nlp)"
   ]
  },
  {
   "cell_type": "code",
   "execution_count": 8,
   "metadata": {
    "collapsed": true
   },
   "outputs": [],
   "source": [
    "sched = sched.loc[sched['title'].drop_duplicates().index]"
   ]
  },
  {
   "cell_type": "markdown",
   "metadata": {},
   "source": [
    "## Let's see how descriptions of novice-directed talks sound compared to directed at more seasoned audiences"
   ]
  },
  {
   "cell_type": "code",
   "execution_count": 12,
   "metadata": {},
   "outputs": [
    {
     "data": {
      "text/html": [
       "\n",
       "        <iframe\n",
       "            width=\"1200\"\n",
       "            height=\"700\"\n",
       "            src=\"output/PydataNoviceVsNotNovice.html\"\n",
       "            frameborder=\"0\"\n",
       "            allowfullscreen\n",
       "        ></iframe>\n",
       "        "
      ],
      "text/plain": [
       "<IPython.lib.display.IFrame at 0x11b46f1d0>"
      ]
     },
     "execution_count": 12,
     "metadata": {},
     "output_type": "execute_result"
    }
   ],
   "source": [
    "html = st.produce_scattertext_explorer(st.CorpusFromParsedDocuments(sched, category_col = 'is_novice', parsed_col = 'parse').build(),\n",
    "                                       category='Novice',\n",
    "                                       category_name='Novice',\n",
    "                                       not_category_name='Intermediate or Advanced',\n",
    "                                       minimum_term_frequency=8,\n",
    "                                       pmi_threshold_coefficient=10,\n",
    "                                       width_in_pixels=1000,\n",
    "                                       term_ranker=st.OncePerDocFrequencyRanker,\n",
    "                                       use_full_doc=True,\n",
    "                                       metadata=sched['author'] + ' ('+sched['location'] + ', '+ sched['level'] + ')',)\n",
    "file_name = 'output/PydataNoviceVsNotNovice.html'\n",
    "open(file_name, 'wb').write(html.encode('utf-8'))\n",
    "IFrame(src=file_name, width = 1200, height=700)"
   ]
  },
  {
   "cell_type": "markdown",
   "metadata": {},
   "source": [
    "## Let's see how the experiened talk descriptions sound"
   ]
  },
  {
   "cell_type": "code",
   "execution_count": 23,
   "metadata": {},
   "outputs": [
    {
     "data": {
      "text/html": [
       "\n",
       "        <iframe\n",
       "            width=\"1200\"\n",
       "            height=\"700\"\n",
       "            src=\"output/PydataAdvancedVsRest.html\"\n",
       "            frameborder=\"0\"\n",
       "            allowfullscreen\n",
       "        ></iframe>\n",
       "        "
      ],
      "text/plain": [
       "<IPython.lib.display.IFrame at 0x179683e10>"
      ]
     },
     "execution_count": 23,
     "metadata": {},
     "output_type": "execute_result"
    }
   ],
   "source": [
    "sched['is_advanced'] = (sched.level == 'Experienced').apply(lambda x: 'Experienced' if x else 'Not Experienced')\n",
    "html = st.produce_scattertext_explorer(st.CorpusFromParsedDocuments(sched, category_col = 'is_advanced', parsed_col = 'parse').build(),\n",
    "                                       category='Experienced',\n",
    "                                       category_name='Experienced',\n",
    "                                       not_category_name='Not Experienced',\n",
    "                                       minimum_term_frequency=8,\n",
    "                                       pmi_filter_thresold=8,                                       \n",
    "                                       width_in_pixels=1000,\n",
    "                                       term_ranker=st.OncePerDocFrequencyRanker,\n",
    "                                       use_full_doc=True,\n",
    "                                       metadata=sched['author'] + ' ('+sched['location'] + ', '+ sched['level'] + ')',)\n",
    "file_name = 'output/PydataAdvancedVsRest.html'\n",
    "open(file_name, 'wb').write(html.encode('utf-8'))\n",
    "IFrame(src=file_name, width = 1200, height=700)"
   ]
  },
  {
   "cell_type": "code",
   "execution_count": null,
   "metadata": {
    "collapsed": true
   },
   "outputs": [],
   "source": []
  }
 ],
 "metadata": {
  "anaconda-cloud": {},
  "kernelspec": {
   "display_name": "Python [Root]",
   "language": "python",
   "name": "Python [Root]"
  },
  "language_info": {
   "codemirror_mode": {
    "name": "ipython",
    "version": 3
   },
   "file_extension": ".py",
   "mimetype": "text/x-python",
   "name": "python",
   "nbconvert_exporter": "python",
   "pygments_lexer": "ipython3",
   "version": "3.5.2"
  }
 },
 "nbformat": 4,
 "nbformat_minor": 2
}
